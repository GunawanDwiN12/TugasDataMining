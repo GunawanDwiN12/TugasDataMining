{
  "nbformat": 4,
  "nbformat_minor": 0,
  "metadata": {
    "colab": {
      "name": "knn.ipynb",
      "provenance": [],
      "collapsed_sections": [],
      "authorship_tag": "ABX9TyNMQMVu7oYWpagCEoreWCLO",
      "include_colab_link": true
    },
    "kernelspec": {
      "name": "python3",
      "display_name": "Python 3"
    },
    "language_info": {
      "name": "python"
    }
  },
  "cells": [
    {
      "cell_type": "markdown",
      "metadata": {
        "id": "view-in-github",
        "colab_type": "text"
      },
      "source": [
        "<a href=\"https://colab.research.google.com/github/GunawanDwiN12/TugasDataMining/blob/PertemuanMinggu6/knn.ipynb\" target=\"_parent\"><img src=\"https://colab.research.google.com/assets/colab-badge.svg\" alt=\"Open In Colab\"/></a>"
      ]
    },
    {
      "cell_type": "code",
      "execution_count": null,
      "metadata": {
        "id": "j9jFvmBqZvtm"
      },
      "outputs": [],
      "source": [
        "import pandas as pd\n",
        "from sklearn.datasets import load_iris\n",
        "from sklearn.model_selection import train_test_split\n",
        "from sklearn.neighbors import KNeighborsClassifier\n",
        "from sklearn.metrics import mean_squared_error\n",
        "from sklearn.preprocessing import StandardScaler\n",
        "from sklearn.metrics import confusion_matrix\n",
        "from sklearn.model_selection import StratifiedKFold, cross_val_score,GridSearchCV\n",
        "\n",
        "dataset = pd.read_csv('data.csv')\n",
        "\n",
        "# split data\n",
        "kolom_X = ['sepal length (cm)','sepal width (cm)','petal length (cm)','petal width (cm)']\n",
        "kolom_y = ['target']\n",
        "\n",
        "X = df[kolom_X]\n",
        "y = df[kolom_y]\n",
        "\n",
        "X_train, X_test, y_train, y_test = train_test_split(X,y,test_size=0.2)\n",
        "sc = StandardScaler()\n",
        "X_train = sc.fit_transform(X_train)\n",
        "X_test = sc.transform(X_test)\n",
        "\n",
        "# Modelling\n",
        "knn_fit = KNeighborsClassifier(n_neighbors = 3).fit(X_train, y_train.values.ravel())\n",
        "y_pred = knn_fit.predict(X_test)\n",
        "cm = confusion_matrix(y_test, y_pred)\n",
        "cm\n",
        "cv=StratifiedKFold()\n",
        "\n",
        "RMSE = mean_squared_error(y_test, y_pred)\n",
        "akurasi = cross_val_score(knn_fit, X_train,  y_train.values.ravel(),cv=cv)\n",
        "\n",
        "print(\"RMSE :\",RMSE)\n",
        "print(\"Accurary :\", akurasi)"
      ]
    }
  ]
}